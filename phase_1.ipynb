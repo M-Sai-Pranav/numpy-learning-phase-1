{
  "nbformat": 4,
  "nbformat_minor": 0,
  "metadata": {
    "colab": {
      "provenance": [],
      "authorship_tag": "ABX9TyNbyGfaVgYwKQbPgZojgLbV",
      "include_colab_link": true
    },
    "kernelspec": {
      "name": "python3",
      "display_name": "Python 3"
    },
    "language_info": {
      "name": "python"
    }
  },
  "cells": [
    {
      "cell_type": "markdown",
      "metadata": {
        "id": "view-in-github",
        "colab_type": "text"
      },
      "source": [
        "<a href=\"https://colab.research.google.com/github/M-Sai-Pranav/numpy-learning-phase-1/blob/main/phase_1.ipynb\" target=\"_parent\"><img src=\"https://colab.research.google.com/assets/colab-badge.svg\" alt=\"Open In Colab\"/></a>"
      ]
    },
    {
      "cell_type": "code",
      "source": [
        "# Numpy with chai aur code"
      ],
      "metadata": {
        "id": "iiNzWwN1oxIV"
      },
      "execution_count": null,
      "outputs": []
    },
    {
      "cell_type": "code",
      "source": [
        "import numpy as np"
      ],
      "metadata": {
        "id": "VbkVciqIo0uC"
      },
      "execution_count": 4,
      "outputs": []
    },
    {
      "cell_type": "code",
      "source": [
        "# creating array from list"
      ],
      "metadata": {
        "id": "LCWN_tjho58z"
      },
      "execution_count": 5,
      "outputs": []
    },
    {
      "cell_type": "code",
      "source": [
        "arr_1d = np.array([1,2,3,4,5,6,7,8,9])"
      ],
      "metadata": {
        "id": "jRJKB-wKpDyO"
      },
      "execution_count": 6,
      "outputs": []
    },
    {
      "cell_type": "code",
      "source": [
        "print(\"1D array : \", arr_1d)"
      ],
      "metadata": {
        "colab": {
          "base_uri": "https://localhost:8080/"
        },
        "id": "vQ0cGiIopafB",
        "outputId": "284ec732-02c1-4c36-cbb7-a7d4623c2028"
      },
      "execution_count": 7,
      "outputs": [
        {
          "output_type": "stream",
          "name": "stdout",
          "text": [
            "1D array :  [1 2 3 4 5 6 7 8 9]\n"
          ]
        }
      ]
    },
    {
      "cell_type": "code",
      "source": [
        "arr_2d = np.array([[1,2,3],[4,5,6]])"
      ],
      "metadata": {
        "id": "_ig8nuYPpfBl"
      },
      "execution_count": 9,
      "outputs": []
    },
    {
      "cell_type": "code",
      "source": [
        "print(\"2D array : \", arr_2d)"
      ],
      "metadata": {
        "colab": {
          "base_uri": "https://localhost:8080/"
        },
        "id": "s7rO-SJWpvV8",
        "outputId": "28a2cdc6-fd08-4b6e-cbd3-c1ca4ccb3282"
      },
      "execution_count": 10,
      "outputs": [
        {
          "output_type": "stream",
          "name": "stdout",
          "text": [
            "2D array :  [[1 2 3]\n",
            " [4 5 6]]\n"
          ]
        }
      ]
    },
    {
      "cell_type": "code",
      "source": [
        "# List vs Numpy array"
      ],
      "metadata": {
        "id": "HHSsayCGp_wG"
      },
      "execution_count": 11,
      "outputs": []
    },
    {
      "cell_type": "code",
      "source": [
        "py_list = [1,2,3]"
      ],
      "metadata": {
        "id": "twgfCpH7qJEF"
      },
      "execution_count": 12,
      "outputs": []
    },
    {
      "cell_type": "code",
      "source": [
        "print(\"Python list multiplication \", py_list*2)"
      ],
      "metadata": {
        "colab": {
          "base_uri": "https://localhost:8080/"
        },
        "id": "_aERlxDrqO3E",
        "outputId": "ec257f77-3eb0-4889-fb59-7e9d1b590ed4"
      },
      "execution_count": 13,
      "outputs": [
        {
          "output_type": "stream",
          "name": "stdout",
          "text": [
            "Python list multiplication  [1, 2, 3, 1, 2, 3]\n"
          ]
        }
      ]
    },
    {
      "cell_type": "code",
      "source": [
        "np_array = np.array([1,2,3])"
      ],
      "metadata": {
        "id": "Z_OXb5VqqUhv"
      },
      "execution_count": 14,
      "outputs": []
    },
    {
      "cell_type": "code",
      "source": [
        "print(\"Python array multiplication \", np_array*2) #element wise multiplication"
      ],
      "metadata": {
        "colab": {
          "base_uri": "https://localhost:8080/"
        },
        "id": "Xi-GFXNoqfnc",
        "outputId": "5f0bc70f-5d1c-41d4-a33e-c51d9d898eee"
      },
      "execution_count": 15,
      "outputs": [
        {
          "output_type": "stream",
          "name": "stdout",
          "text": [
            "Python array multiplication  [2 4 6]\n"
          ]
        }
      ]
    },
    {
      "cell_type": "code",
      "source": [
        "import time\n",
        "start = time.time()\n",
        "py_list = [i*2 for i in range(1000000)]\n",
        "print(\"\\n List operation time: \", time.time()-start)"
      ],
      "metadata": {
        "colab": {
          "base_uri": "https://localhost:8080/"
        },
        "id": "RMbhQFTkqjlR",
        "outputId": "09e963e9-59a0-4b0c-bbec-2f21144b7c55"
      },
      "execution_count": 18,
      "outputs": [
        {
          "output_type": "stream",
          "name": "stdout",
          "text": [
            "\n",
            " List operation time:  0.08658814430236816\n"
          ]
        }
      ]
    },
    {
      "cell_type": "code",
      "source": [
        "start = time.time()\n",
        "np_array = np.arange(1000000)*2\n",
        "print(\"\\n Numpy operation time: \", time.time()-start)"
      ],
      "metadata": {
        "colab": {
          "base_uri": "https://localhost:8080/"
        },
        "id": "0kcFETBdrSjw",
        "outputId": "9c298112-6218-4889-c1a3-2fc1f42cd378"
      },
      "execution_count": 19,
      "outputs": [
        {
          "output_type": "stream",
          "name": "stdout",
          "text": [
            "\n",
            " Numpy operation time:  0.010078907012939453\n"
          ]
        }
      ]
    },
    {
      "cell_type": "code",
      "source": [
        "# creating array from scratch"
      ],
      "metadata": {
        "id": "0e01sqYus_Vc"
      },
      "execution_count": 20,
      "outputs": []
    },
    {
      "cell_type": "code",
      "source": [
        "zeros = np.zeros((3,4))\n",
        "print(\"zeros array: \\n\", zeros)"
      ],
      "metadata": {
        "colab": {
          "base_uri": "https://localhost:8080/"
        },
        "id": "Mwojku9ztE7t",
        "outputId": "7fcc4aab-1a38-4223-9a82-4ff6aa534312"
      },
      "execution_count": 21,
      "outputs": [
        {
          "output_type": "stream",
          "name": "stdout",
          "text": [
            "zeros array: \n",
            " [[0. 0. 0. 0.]\n",
            " [0. 0. 0. 0.]\n",
            " [0. 0. 0. 0.]]\n"
          ]
        }
      ]
    },
    {
      "cell_type": "code",
      "source": [
        "ones = np.ones((2,3))\n",
        "print(\"ones array: \\n\", ones)"
      ],
      "metadata": {
        "colab": {
          "base_uri": "https://localhost:8080/"
        },
        "id": "SwyYG9_atS03",
        "outputId": "16cd7a5a-7148-4c6e-c580-45b1d60bd4b6"
      },
      "execution_count": 22,
      "outputs": [
        {
          "output_type": "stream",
          "name": "stdout",
          "text": [
            "ones array: \n",
            " [[1. 1. 1.]\n",
            " [1. 1. 1.]]\n"
          ]
        }
      ]
    },
    {
      "cell_type": "code",
      "source": [
        "full = np.full((2,2), 7)\n",
        "print(\"full array: \\n\", full)"
      ],
      "metadata": {
        "colab": {
          "base_uri": "https://localhost:8080/"
        },
        "id": "wYXT_F6ntd-d",
        "outputId": "d4f83806-765e-498e-eea1-58ea1a0ee0c0"
      },
      "execution_count": 23,
      "outputs": [
        {
          "output_type": "stream",
          "name": "stdout",
          "text": [
            "full array: \n",
            " [[7 7]\n",
            " [7 7]]\n"
          ]
        }
      ]
    },
    {
      "cell_type": "code",
      "source": [
        "random = np.random.random((2,3))\n",
        "print(\"random array: \\n\", random)"
      ],
      "metadata": {
        "colab": {
          "base_uri": "https://localhost:8080/"
        },
        "id": "SRsx0gB9tscW",
        "outputId": "f80ecf25-3b8d-4bc3-917e-3f857ffd5bcd"
      },
      "execution_count": 24,
      "outputs": [
        {
          "output_type": "stream",
          "name": "stdout",
          "text": [
            "random array: \n",
            " [[0.77933943 0.89212878 0.20534194]\n",
            " [0.98886524 0.8154744  0.26772151]]\n"
          ]
        }
      ]
    },
    {
      "cell_type": "code",
      "source": [
        "sequence = np.arange(0,10,2)\n",
        "print(\"sequence array: \\n\", sequence)"
      ],
      "metadata": {
        "colab": {
          "base_uri": "https://localhost:8080/"
        },
        "id": "in6w3yX4uI9m",
        "outputId": "d150de70-033b-4be9-b90b-981faf25c42d"
      },
      "execution_count": 26,
      "outputs": [
        {
          "output_type": "stream",
          "name": "stdout",
          "text": [
            "sequence array: \n",
            " [0 2 4 6 8]\n"
          ]
        }
      ]
    },
    {
      "cell_type": "code",
      "source": [
        "# vector, matrix and tensor"
      ],
      "metadata": {
        "id": "DmVAiZ0suiW5"
      },
      "execution_count": 27,
      "outputs": []
    },
    {
      "cell_type": "code",
      "source": [
        "vector = np.array([1,2,3])\n",
        "print(vector)"
      ],
      "metadata": {
        "colab": {
          "base_uri": "https://localhost:8080/"
        },
        "id": "oFyFqNYMu25h",
        "outputId": "a350a70a-8425-47dd-f702-8e1ea053b69e"
      },
      "execution_count": 28,
      "outputs": [
        {
          "output_type": "stream",
          "name": "stdout",
          "text": [
            "[1 2 3]\n"
          ]
        }
      ]
    },
    {
      "cell_type": "code",
      "source": [
        "matrix = np.array([[1,2,3], [4,5,6]])\n",
        "print(matrix)"
      ],
      "metadata": {
        "colab": {
          "base_uri": "https://localhost:8080/"
        },
        "id": "2oLSfOZIu7Id",
        "outputId": "ebbf97c4-f6e3-4071-d297-67b98cf4ab66"
      },
      "execution_count": 29,
      "outputs": [
        {
          "output_type": "stream",
          "name": "stdout",
          "text": [
            "[[1 2 3]\n",
            " [4 5 6]]\n"
          ]
        }
      ]
    },
    {
      "cell_type": "code",
      "source": [
        "tensor = np.array([[[1,2],[3,4]],\n",
        "                   [[5,6],[7,8]]])\n",
        "print(\"Tensor: \", tensor)"
      ],
      "metadata": {
        "colab": {
          "base_uri": "https://localhost:8080/"
        },
        "id": "2UYUHNPsvOnf",
        "outputId": "2ba4f216-723e-443b-f4c2-131fc1eb15f1"
      },
      "execution_count": 30,
      "outputs": [
        {
          "output_type": "stream",
          "name": "stdout",
          "text": [
            "Tensor:  [[[1 2]\n",
            "  [3 4]]\n",
            "\n",
            " [[5 6]\n",
            "  [7 8]]]\n"
          ]
        }
      ]
    },
    {
      "cell_type": "code",
      "source": [
        "# Array properties"
      ],
      "metadata": {
        "id": "tsdE_BXHvyfN"
      },
      "execution_count": 31,
      "outputs": []
    },
    {
      "cell_type": "code",
      "source": [
        "arr = np.array([[1,2,3],\n",
        "                [4,5,\"6.8\"]])\n",
        "print(\"Shape \", arr.shape)\n",
        "print(\"Dimension \", arr.ndim)\n",
        "print(\"Size \", arr.size)\n",
        "print(\"DType \", arr.dtype)"
      ],
      "metadata": {
        "colab": {
          "base_uri": "https://localhost:8080/"
        },
        "id": "IUHIqE7Qv7VP",
        "outputId": "c63453a7-70f3-47d7-c705-4de861fd1a7d"
      },
      "execution_count": 36,
      "outputs": [
        {
          "output_type": "stream",
          "name": "stdout",
          "text": [
            "Shape  (2, 3)\n",
            "Dimension  2\n",
            "Size  6\n",
            "DType  <U21\n"
          ]
        }
      ]
    },
    {
      "cell_type": "code",
      "source": [
        "# Array Reshaping"
      ],
      "metadata": {
        "id": "7yGq6SMGwkDl"
      },
      "execution_count": 37,
      "outputs": []
    },
    {
      "cell_type": "code",
      "source": [
        "arr = np.arange(12)\n",
        "print(\"Original array \", arr)\n",
        "reshaped = arr.reshape((3,4))\n",
        "print(\"Reshaped array \", reshaped)\n",
        "flattened = reshaped.flatten()\n",
        "print(\"\\n Flattened array \", flattened)\n",
        "\n",
        "#ravel (returns view, instead of copy)\n",
        "raveled = reshaped.ravel()\n",
        "print(\"\\n Raveled array \", raveled)\n",
        "\n",
        "#Transpose\n",
        "transpose = reshaped.T\n",
        "print(\"\\n Transposed array \", transpose)"
      ],
      "metadata": {
        "colab": {
          "base_uri": "https://localhost:8080/"
        },
        "id": "_vUerOZ9xUUg",
        "outputId": "5d3708ef-d00f-4c86-97ed-245315b0d772"
      },
      "execution_count": 41,
      "outputs": [
        {
          "output_type": "stream",
          "name": "stdout",
          "text": [
            "Original array  [ 0  1  2  3  4  5  6  7  8  9 10 11]\n",
            "Reshaped array  [[ 0  1  2  3]\n",
            " [ 4  5  6  7]\n",
            " [ 8  9 10 11]]\n",
            "\n",
            " Flattened array  [ 0  1  2  3  4  5  6  7  8  9 10 11]\n",
            "\n",
            " Raveled array  [ 0  1  2  3  4  5  6  7  8  9 10 11]\n",
            "\n",
            " Transposed array  [[ 0  4  8]\n",
            " [ 1  5  9]\n",
            " [ 2  6 10]\n",
            " [ 3  7 11]]\n"
          ]
        }
      ]
    },
    {
      "cell_type": "code",
      "source": [],
      "metadata": {
        "id": "G2ftzK_Nxcrl"
      },
      "execution_count": null,
      "outputs": []
    }
  ]
}